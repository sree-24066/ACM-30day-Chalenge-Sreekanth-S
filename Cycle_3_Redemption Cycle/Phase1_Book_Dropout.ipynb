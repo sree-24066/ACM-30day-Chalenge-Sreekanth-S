{
  "cells": [
    {
      "cell_type": "markdown",
      "metadata": {
        "id": "JAAPVC_SVKCv"
      },
      "source": [
        "###Phase 1: Book Dropout Predictor\n",
        "Concepts:\n",
        "Binary classification, Multilayer Perceptron, PyTorch from scratch, ReLU/Sigmoid, Explainability"
      ]
    },
    {
      "cell_type": "code",
      "execution_count": null,
      "metadata": {
        "colab": {
          "base_uri": "https://localhost:8080/"
        },
        "id": "QAdYzDn-PP8z",
        "outputId": "b150e330-828c-4cd7-8ac7-587531adb781"
      },
      "outputs": [
        {
          "name": "stdout",
          "output_type": "stream",
          "text": [
            "(10000, 23)\n",
            "(981756, 3)\n"
          ]
        }
      ],
      "source": [
        "import pandas as pd\n",
        "books = pd.read_csv(\"books.csv\")\n",
        "ratings = pd.read_csv(\"ratings.csv\")\n",
        "print(books.shape)\n",
        "print(ratings.shape)"
      ]
    },
    {
      "cell_type": "markdown",
      "metadata": {
        "id": "7DoR_29cVlOm"
      },
      "source": [
        "Step 1:  Merge & Prepare the Dataset"
      ]
    },
    {
      "cell_type": "code",
      "execution_count": null,
      "metadata": {
        "colab": {
          "base_uri": "https://localhost:8080/"
        },
        "id": "OJ6aUim8Qx1y",
        "outputId": "5e02dc90-8d94-455c-bcd8-a4e7776c95d4"
      },
      "outputs": [
        {
          "name": "stdout",
          "output_type": "stream",
          "text": [
            "Merged columns: ['book_id', 'user_id', 'rating', 'id', 'best_book_id', 'work_id', 'books_count', 'isbn', 'isbn13', 'authors', 'original_publication_year', 'original_title', 'title', 'language_code', 'average_rating', 'ratings_count', 'work_ratings_count', 'work_text_reviews_count', 'ratings_1', 'ratings_2', 'ratings_3', 'ratings_4', 'ratings_5', 'image_url', 'small_image_url']\n",
            "<class 'pandas.core.frame.DataFrame'>\n",
            "RangeIndex: 79701 entries, 0 to 79700\n",
            "Data columns (total 25 columns):\n",
            " #   Column                     Non-Null Count  Dtype  \n",
            "---  ------                     --------------  -----  \n",
            " 0   book_id                    79701 non-null  int64  \n",
            " 1   user_id                    79701 non-null  int64  \n",
            " 2   rating                     79701 non-null  int64  \n",
            " 3   id                         79701 non-null  int64  \n",
            " 4   best_book_id               79701 non-null  int64  \n",
            " 5   work_id                    79701 non-null  int64  \n",
            " 6   books_count                79701 non-null  int64  \n",
            " 7   isbn                       78822 non-null  object \n",
            " 8   isbn13                     79303 non-null  float64\n",
            " 9   authors                    79701 non-null  object \n",
            " 10  original_publication_year  79601 non-null  float64\n",
            " 11  original_title             77920 non-null  object \n",
            " 12  title                      79701 non-null  object \n",
            " 13  language_code              68562 non-null  object \n",
            " 14  average_rating             79701 non-null  float64\n",
            " 15  ratings_count              79701 non-null  int64  \n",
            " 16  work_ratings_count         79701 non-null  int64  \n",
            " 17  work_text_reviews_count    79701 non-null  int64  \n",
            " 18  ratings_1                  79701 non-null  int64  \n",
            " 19  ratings_2                  79701 non-null  int64  \n",
            " 20  ratings_3                  79701 non-null  int64  \n",
            " 21  ratings_4                  79701 non-null  int64  \n",
            " 22  ratings_5                  79701 non-null  int64  \n",
            " 23  image_url                  79701 non-null  object \n",
            " 24  small_image_url            79701 non-null  object \n",
            "dtypes: float64(3), int64(15), object(7)\n",
            "memory usage: 15.2+ MB\n",
            "<class 'pandas.core.frame.DataFrame'>\n",
            "RangeIndex: 79701 entries, 0 to 79700\n",
            "Data columns (total 25 columns):\n",
            " #   Column                     Non-Null Count  Dtype  \n",
            "---  ------                     --------------  -----  \n",
            " 0   book_id                    79701 non-null  int64  \n",
            " 1   user_id                    79701 non-null  int64  \n",
            " 2   rating                     79701 non-null  int64  \n",
            " 3   id                         79701 non-null  int64  \n",
            " 4   best_book_id               79701 non-null  int64  \n",
            " 5   work_id                    79701 non-null  int64  \n",
            " 6   books_count                79701 non-null  int64  \n",
            " 7   isbn                       78822 non-null  object \n",
            " 8   isbn13                     79303 non-null  float64\n",
            " 9   authors                    79701 non-null  object \n",
            " 10  original_publication_year  79601 non-null  float64\n",
            " 11  original_title             77920 non-null  object \n",
            " 12  title                      79701 non-null  object \n",
            " 13  language_code              68562 non-null  object \n",
            " 14  average_rating             79701 non-null  float64\n",
            " 15  ratings_count              79701 non-null  int64  \n",
            " 16  work_ratings_count         79701 non-null  int64  \n",
            " 17  work_text_reviews_count    79701 non-null  int64  \n",
            " 18  ratings_1                  79701 non-null  int64  \n",
            " 19  ratings_2                  79701 non-null  int64  \n",
            " 20  ratings_3                  79701 non-null  int64  \n",
            " 21  ratings_4                  79701 non-null  int64  \n",
            " 22  ratings_5                  79701 non-null  int64  \n",
            " 23  image_url                  79701 non-null  object \n",
            " 24  small_image_url            79701 non-null  object \n",
            "dtypes: float64(3), int64(15), object(7)\n",
            "memory usage: 15.2+ MB\n"
          ]
        }
      ],
      "source": [
        "print(\"Merged columns:\", merged_df.columns.tolist())\n",
        "merged_df.info()\n",
        "merged_df.describe(include='all')\n",
        "merged_df.info()"
      ]
    },
    {
      "cell_type": "code",
      "execution_count": null,
      "metadata": {
        "colab": {
          "base_uri": "https://localhost:8080/",
          "height": 206
        },
        "id": "03Hff2_VRUNB",
        "outputId": "2331f25f-0ea9-4cd6-dfd3-7f56c030a5e3"
      },
      "outputs": [
        {
          "data": {
            "application/vnd.google.colaboratory.intrinsic+json": {
              "summary": "{\n  \"name\": \"data\",\n  \"rows\": 79601,\n  \"fields\": [\n    {\n      \"column\": \"average_rating\",\n      \"properties\": {\n        \"dtype\": \"number\",\n        \"std\": 0.25118128350348634,\n        \"min\": 2.8,\n        \"max\": 4.77,\n        \"num_unique_values\": 123,\n        \"samples\": [\n          3.68,\n          4.02,\n          4.06\n        ],\n        \"semantic_type\": \"\",\n        \"description\": \"\"\n      }\n    },\n    {\n      \"column\": \"ratings_count\",\n      \"properties\": {\n        \"dtype\": \"number\",\n        \"std\": 352177,\n        \"min\": 5321,\n        \"max\": 4602479,\n        \"num_unique_values\": 810,\n        \"samples\": [\n          40859,\n          19780,\n          32176\n        ],\n        \"semantic_type\": \"\",\n        \"description\": \"\"\n      }\n    },\n    {\n      \"column\": \"original_publication_year\",\n      \"properties\": {\n        \"dtype\": \"number\",\n        \"std\": 293.7514745444255,\n        \"min\": -762.0,\n        \"max\": 2009.0,\n        \"num_unique_values\": 148,\n        \"samples\": [\n          1949.0,\n          1600.0,\n          1916.0\n        ],\n        \"semantic_type\": \"\",\n        \"description\": \"\"\n      }\n    },\n    {\n      \"column\": \"books_count\",\n      \"properties\": {\n        \"dtype\": \"number\",\n        \"std\": 359,\n        \"min\": 2,\n        \"max\": 3455,\n        \"num_unique_values\": 290,\n        \"samples\": [\n          210,\n          177,\n          65\n        ],\n        \"semantic_type\": \"\",\n        \"description\": \"\"\n      }\n    },\n    {\n      \"column\": \"label\",\n      \"properties\": {\n        \"dtype\": \"number\",\n        \"std\": 0,\n        \"min\": 0,\n        \"max\": 1,\n        \"num_unique_values\": 2,\n        \"samples\": [\n          0,\n          1\n        ],\n        \"semantic_type\": \"\",\n        \"description\": \"\"\n      }\n    }\n  ]\n}",
              "type": "dataframe",
              "variable_name": "data"
            },
            "text/html": [
              "\n",
              "  <div id=\"df-9534dd69-8619-4d0e-a381-27975b55b195\" class=\"colab-df-container\">\n",
              "    <div>\n",
              "<style scoped>\n",
              "    .dataframe tbody tr th:only-of-type {\n",
              "        vertical-align: middle;\n",
              "    }\n",
              "\n",
              "    .dataframe tbody tr th {\n",
              "        vertical-align: top;\n",
              "    }\n",
              "\n",
              "    .dataframe thead th {\n",
              "        text-align: right;\n",
              "    }\n",
              "</style>\n",
              "<table border=\"1\" class=\"dataframe\">\n",
              "  <thead>\n",
              "    <tr style=\"text-align: right;\">\n",
              "      <th></th>\n",
              "      <th>average_rating</th>\n",
              "      <th>ratings_count</th>\n",
              "      <th>original_publication_year</th>\n",
              "      <th>books_count</th>\n",
              "      <th>label</th>\n",
              "    </tr>\n",
              "  </thead>\n",
              "  <tbody>\n",
              "    <tr>\n",
              "      <th>0</th>\n",
              "      <td>4.54</td>\n",
              "      <td>1678823</td>\n",
              "      <td>2005.0</td>\n",
              "      <td>275</td>\n",
              "      <td>1</td>\n",
              "    </tr>\n",
              "    <tr>\n",
              "      <th>1</th>\n",
              "      <td>4.54</td>\n",
              "      <td>1678823</td>\n",
              "      <td>2005.0</td>\n",
              "      <td>275</td>\n",
              "      <td>0</td>\n",
              "    </tr>\n",
              "    <tr>\n",
              "      <th>2</th>\n",
              "      <td>4.54</td>\n",
              "      <td>1678823</td>\n",
              "      <td>2005.0</td>\n",
              "      <td>275</td>\n",
              "      <td>1</td>\n",
              "    </tr>\n",
              "    <tr>\n",
              "      <th>3</th>\n",
              "      <td>4.54</td>\n",
              "      <td>1678823</td>\n",
              "      <td>2005.0</td>\n",
              "      <td>275</td>\n",
              "      <td>1</td>\n",
              "    </tr>\n",
              "    <tr>\n",
              "      <th>4</th>\n",
              "      <td>4.54</td>\n",
              "      <td>1678823</td>\n",
              "      <td>2005.0</td>\n",
              "      <td>275</td>\n",
              "      <td>1</td>\n",
              "    </tr>\n",
              "  </tbody>\n",
              "</table>\n",
              "</div>\n",
              "    <div class=\"colab-df-buttons\">\n",
              "\n",
              "  <div class=\"colab-df-container\">\n",
              "    <button class=\"colab-df-convert\" onclick=\"convertToInteractive('df-9534dd69-8619-4d0e-a381-27975b55b195')\"\n",
              "            title=\"Convert this dataframe to an interactive table.\"\n",
              "            style=\"display:none;\">\n",
              "\n",
              "  <svg xmlns=\"http://www.w3.org/2000/svg\" height=\"24px\" viewBox=\"0 -960 960 960\">\n",
              "    <path d=\"M120-120v-720h720v720H120Zm60-500h600v-160H180v160Zm220 220h160v-160H400v160Zm0 220h160v-160H400v160ZM180-400h160v-160H180v160Zm440 0h160v-160H620v160ZM180-180h160v-160H180v160Zm440 0h160v-160H620v160Z\"/>\n",
              "  </svg>\n",
              "    </button>\n",
              "\n",
              "  <style>\n",
              "    .colab-df-container {\n",
              "      display:flex;\n",
              "      gap: 12px;\n",
              "    }\n",
              "\n",
              "    .colab-df-convert {\n",
              "      background-color: #E8F0FE;\n",
              "      border: none;\n",
              "      border-radius: 50%;\n",
              "      cursor: pointer;\n",
              "      display: none;\n",
              "      fill: #1967D2;\n",
              "      height: 32px;\n",
              "      padding: 0 0 0 0;\n",
              "      width: 32px;\n",
              "    }\n",
              "\n",
              "    .colab-df-convert:hover {\n",
              "      background-color: #E2EBFA;\n",
              "      box-shadow: 0px 1px 2px rgba(60, 64, 67, 0.3), 0px 1px 3px 1px rgba(60, 64, 67, 0.15);\n",
              "      fill: #174EA6;\n",
              "    }\n",
              "\n",
              "    .colab-df-buttons div {\n",
              "      margin-bottom: 4px;\n",
              "    }\n",
              "\n",
              "    [theme=dark] .colab-df-convert {\n",
              "      background-color: #3B4455;\n",
              "      fill: #D2E3FC;\n",
              "    }\n",
              "\n",
              "    [theme=dark] .colab-df-convert:hover {\n",
              "      background-color: #434B5C;\n",
              "      box-shadow: 0px 1px 3px 1px rgba(0, 0, 0, 0.15);\n",
              "      filter: drop-shadow(0px 1px 2px rgba(0, 0, 0, 0.3));\n",
              "      fill: #FFFFFF;\n",
              "    }\n",
              "  </style>\n",
              "\n",
              "    <script>\n",
              "      const buttonEl =\n",
              "        document.querySelector('#df-9534dd69-8619-4d0e-a381-27975b55b195 button.colab-df-convert');\n",
              "      buttonEl.style.display =\n",
              "        google.colab.kernel.accessAllowed ? 'block' : 'none';\n",
              "\n",
              "      async function convertToInteractive(key) {\n",
              "        const element = document.querySelector('#df-9534dd69-8619-4d0e-a381-27975b55b195');\n",
              "        const dataTable =\n",
              "          await google.colab.kernel.invokeFunction('convertToInteractive',\n",
              "                                                    [key], {});\n",
              "        if (!dataTable) return;\n",
              "\n",
              "        const docLinkHtml = 'Like what you see? Visit the ' +\n",
              "          '<a target=\"_blank\" href=https://colab.research.google.com/notebooks/data_table.ipynb>data table notebook</a>'\n",
              "          + ' to learn more about interactive tables.';\n",
              "        element.innerHTML = '';\n",
              "        dataTable['output_type'] = 'display_data';\n",
              "        await google.colab.output.renderOutput(dataTable, element);\n",
              "        const docLink = document.createElement('div');\n",
              "        docLink.innerHTML = docLinkHtml;\n",
              "        element.appendChild(docLink);\n",
              "      }\n",
              "    </script>\n",
              "  </div>\n",
              "\n",
              "\n",
              "    <div id=\"df-ebbafae9-2de1-4ab9-a615-6d2678ec07a3\">\n",
              "      <button class=\"colab-df-quickchart\" onclick=\"quickchart('df-ebbafae9-2de1-4ab9-a615-6d2678ec07a3')\"\n",
              "                title=\"Suggest charts\"\n",
              "                style=\"display:none;\">\n",
              "\n",
              "<svg xmlns=\"http://www.w3.org/2000/svg\" height=\"24px\"viewBox=\"0 0 24 24\"\n",
              "     width=\"24px\">\n",
              "    <g>\n",
              "        <path d=\"M19 3H5c-1.1 0-2 .9-2 2v14c0 1.1.9 2 2 2h14c1.1 0 2-.9 2-2V5c0-1.1-.9-2-2-2zM9 17H7v-7h2v7zm4 0h-2V7h2v10zm4 0h-2v-4h2v4z\"/>\n",
              "    </g>\n",
              "</svg>\n",
              "      </button>\n",
              "\n",
              "<style>\n",
              "  .colab-df-quickchart {\n",
              "      --bg-color: #E8F0FE;\n",
              "      --fill-color: #1967D2;\n",
              "      --hover-bg-color: #E2EBFA;\n",
              "      --hover-fill-color: #174EA6;\n",
              "      --disabled-fill-color: #AAA;\n",
              "      --disabled-bg-color: #DDD;\n",
              "  }\n",
              "\n",
              "  [theme=dark] .colab-df-quickchart {\n",
              "      --bg-color: #3B4455;\n",
              "      --fill-color: #D2E3FC;\n",
              "      --hover-bg-color: #434B5C;\n",
              "      --hover-fill-color: #FFFFFF;\n",
              "      --disabled-bg-color: #3B4455;\n",
              "      --disabled-fill-color: #666;\n",
              "  }\n",
              "\n",
              "  .colab-df-quickchart {\n",
              "    background-color: var(--bg-color);\n",
              "    border: none;\n",
              "    border-radius: 50%;\n",
              "    cursor: pointer;\n",
              "    display: none;\n",
              "    fill: var(--fill-color);\n",
              "    height: 32px;\n",
              "    padding: 0;\n",
              "    width: 32px;\n",
              "  }\n",
              "\n",
              "  .colab-df-quickchart:hover {\n",
              "    background-color: var(--hover-bg-color);\n",
              "    box-shadow: 0 1px 2px rgba(60, 64, 67, 0.3), 0 1px 3px 1px rgba(60, 64, 67, 0.15);\n",
              "    fill: var(--button-hover-fill-color);\n",
              "  }\n",
              "\n",
              "  .colab-df-quickchart-complete:disabled,\n",
              "  .colab-df-quickchart-complete:disabled:hover {\n",
              "    background-color: var(--disabled-bg-color);\n",
              "    fill: var(--disabled-fill-color);\n",
              "    box-shadow: none;\n",
              "  }\n",
              "\n",
              "  .colab-df-spinner {\n",
              "    border: 2px solid var(--fill-color);\n",
              "    border-color: transparent;\n",
              "    border-bottom-color: var(--fill-color);\n",
              "    animation:\n",
              "      spin 1s steps(1) infinite;\n",
              "  }\n",
              "\n",
              "  @keyframes spin {\n",
              "    0% {\n",
              "      border-color: transparent;\n",
              "      border-bottom-color: var(--fill-color);\n",
              "      border-left-color: var(--fill-color);\n",
              "    }\n",
              "    20% {\n",
              "      border-color: transparent;\n",
              "      border-left-color: var(--fill-color);\n",
              "      border-top-color: var(--fill-color);\n",
              "    }\n",
              "    30% {\n",
              "      border-color: transparent;\n",
              "      border-left-color: var(--fill-color);\n",
              "      border-top-color: var(--fill-color);\n",
              "      border-right-color: var(--fill-color);\n",
              "    }\n",
              "    40% {\n",
              "      border-color: transparent;\n",
              "      border-right-color: var(--fill-color);\n",
              "      border-top-color: var(--fill-color);\n",
              "    }\n",
              "    60% {\n",
              "      border-color: transparent;\n",
              "      border-right-color: var(--fill-color);\n",
              "    }\n",
              "    80% {\n",
              "      border-color: transparent;\n",
              "      border-right-color: var(--fill-color);\n",
              "      border-bottom-color: var(--fill-color);\n",
              "    }\n",
              "    90% {\n",
              "      border-color: transparent;\n",
              "      border-bottom-color: var(--fill-color);\n",
              "    }\n",
              "  }\n",
              "</style>\n",
              "\n",
              "      <script>\n",
              "        async function quickchart(key) {\n",
              "          const quickchartButtonEl =\n",
              "            document.querySelector('#' + key + ' button');\n",
              "          quickchartButtonEl.disabled = true;  // To prevent multiple clicks.\n",
              "          quickchartButtonEl.classList.add('colab-df-spinner');\n",
              "          try {\n",
              "            const charts = await google.colab.kernel.invokeFunction(\n",
              "                'suggestCharts', [key], {});\n",
              "          } catch (error) {\n",
              "            console.error('Error during call to suggestCharts:', error);\n",
              "          }\n",
              "          quickchartButtonEl.classList.remove('colab-df-spinner');\n",
              "          quickchartButtonEl.classList.add('colab-df-quickchart-complete');\n",
              "        }\n",
              "        (() => {\n",
              "          let quickchartButtonEl =\n",
              "            document.querySelector('#df-ebbafae9-2de1-4ab9-a615-6d2678ec07a3 button');\n",
              "          quickchartButtonEl.style.display =\n",
              "            google.colab.kernel.accessAllowed ? 'block' : 'none';\n",
              "        })();\n",
              "      </script>\n",
              "    </div>\n",
              "\n",
              "    </div>\n",
              "  </div>\n"
            ],
            "text/plain": [
              "   average_rating  ratings_count  original_publication_year  books_count  \\\n",
              "0            4.54        1678823                     2005.0          275   \n",
              "1            4.54        1678823                     2005.0          275   \n",
              "2            4.54        1678823                     2005.0          275   \n",
              "3            4.54        1678823                     2005.0          275   \n",
              "4            4.54        1678823                     2005.0          275   \n",
              "\n",
              "   label  \n",
              "0      1  \n",
              "1      0  \n",
              "2      1  \n",
              "3      1  \n",
              "4      1  "
            ]
          },
          "execution_count": 7,
          "metadata": {},
          "output_type": "execute_result"
        }
      ],
      "source": [
        "selected_cols = ['average_rating', 'ratings_count', 'original_publication_year', 'books_count', 'rating']\n",
        "data = merged_df[selected_cols].dropna()\n",
        "data['label'] = (data['rating'] >= 4).astype(int)\n",
        "data = data.drop(columns=['rating'])\n",
        "data.head()"
      ]
    },
    {
      "cell_type": "markdown",
      "metadata": {
        "id": "RFmjHZmQYhuO"
      },
      "source": [
        "Step 2: Normalize and Split the Data"
      ]
    },
    {
      "cell_type": "code",
      "execution_count": null,
      "metadata": {
        "colab": {
          "base_uri": "https://localhost:8080/"
        },
        "id": "_GaCsB6sRmoB",
        "outputId": "8ba1b4be-bdcf-4d81-a39a-413a73b2c8d3"
      },
      "outputs": [
        {
          "name": "stdout",
          "output_type": "stream",
          "text": [
            "X_train: torch.Size([63680, 4])\n",
            "y_train: torch.Size([63680, 1])\n"
          ]
        }
      ],
      "source": [
        "from sklearn.model_selection import train_test_split\n",
        "from sklearn.preprocessing import StandardScaler\n",
        "import torch\n",
        "import numpy as np\n",
        "X = data.drop('label', axis=1).values\n",
        "y = data['label'].values\n",
        "X_train, X_test, y_train, y_test = train_test_split(X, y, test_size=0.2, random_state=42)\n",
        "scaler = StandardScaler()\n",
        "X_train = scaler.fit_transform(X_train)\n",
        "X_test = scaler.transform(X_test)\n",
        "X_train_tensor = torch.tensor(X_train, dtype=torch.float32)\n",
        "X_test_tensor = torch.tensor(X_test, dtype=torch.float32)\n",
        "y_train_tensor = torch.tensor(y_train.reshape(-1, 1), dtype=torch.float32)\n",
        "y_test_tensor = torch.tensor(y_test.reshape(-1, 1), dtype=torch.float32)\n",
        "print(\"X_train:\", X_train_tensor.shape)\n",
        "print(\"y_train:\", y_train_tensor.shape)"
      ]
    },
    {
      "cell_type": "markdown",
      "metadata": {
        "id": "ShuVpTQLY6W3"
      },
      "source": [
        "Step 3:Define and Train the MLP"
      ]
    },
    {
      "cell_type": "code",
      "execution_count": null,
      "metadata": {
        "id": "QaMivGrrRyyn"
      },
      "outputs": [],
      "source": [
        "import torch.nn as nn\n",
        "class BookDropoutMLP(nn.Module):\n",
        "    def __init__(self, input_dim):\n",
        "        super(BookDropoutMLP, self).__init__()\n",
        "        self.model = nn.Sequential(\n",
        "            nn.Linear(input_dim, 16),\n",
        "            nn.ReLU(),\n",
        "            nn.Linear(16, 8),\n",
        "            nn.ReLU(),\n",
        "            nn.Linear(8, 1),\n",
        "            nn.Sigmoid()\n",
        "        )\n",
        "    def forward(self, x):\n",
        "        return self.model(x)\n",
        "model = BookDropoutMLP(input_dim=4)"
      ]
    },
    {
      "cell_type": "markdown",
      "metadata": {
        "id": "r6OBmHjBZOOj"
      },
      "source": [
        "Step 4:Train the Model"
      ]
    },
    {
      "cell_type": "code",
      "execution_count": null,
      "metadata": {
        "colab": {
          "base_uri": "https://localhost:8080/"
        },
        "id": "7qKNg5dRR3d2",
        "outputId": "c479ad68-1caf-490c-9270-c03366c35e00"
      },
      "outputs": [
        {
          "name": "stdout",
          "output_type": "stream",
          "text": [
            "Epoch [1/20], Loss: 0.6462\n",
            "Epoch [2/20], Loss: 0.6459\n",
            "Epoch [3/20], Loss: 0.6455\n",
            "Epoch [4/20], Loss: 0.6452\n",
            "Epoch [5/20], Loss: 0.6449\n",
            "Epoch [6/20], Loss: 0.6446\n",
            "Epoch [7/20], Loss: 0.6443\n",
            "Epoch [8/20], Loss: 0.6440\n",
            "Epoch [9/20], Loss: 0.6437\n",
            "Epoch [10/20], Loss: 0.6434\n",
            "Epoch [11/20], Loss: 0.6431\n",
            "Epoch [12/20], Loss: 0.6428\n",
            "Epoch [13/20], Loss: 0.6425\n",
            "Epoch [14/20], Loss: 0.6422\n",
            "Epoch [15/20], Loss: 0.6420\n",
            "Epoch [16/20], Loss: 0.6417\n",
            "Epoch [17/20], Loss: 0.6415\n",
            "Epoch [18/20], Loss: 0.6412\n",
            "Epoch [19/20], Loss: 0.6410\n",
            "Epoch [20/20], Loss: 0.6408\n"
          ]
        }
      ],
      "source": [
        "criterion = nn.BCELoss()\n",
        "optimizer = torch.optim.Adam(model.parameters(), lr=0.001)\n",
        "epochs = 20\n",
        "losses = []\n",
        "for epoch in range(epochs):\n",
        "    model.train()\n",
        "    outputs = model(X_train_tensor)\n",
        "    loss = criterion(outputs, y_train_tensor)\n",
        "    optimizer.zero_grad()\n",
        "    loss.backward()\n",
        "    optimizer.step()\n",
        "    losses.append(loss.item())\n",
        "    print(f\"Epoch [{epoch+1}/{epochs}], Loss: {loss.item():.4f}\")"
      ]
    },
    {
      "cell_type": "markdown",
      "metadata": {
        "id": "__khLnwbZaeY"
      },
      "source": [
        "Step 5:Plot the Loss Curve"
      ]
    },
    {
      "cell_type": "code",
      "execution_count": null,
      "metadata": {
        "colab": {
          "base_uri": "https://localhost:8080/",
          "height": 472
        },
        "id": "GU1N9OZjR8J3",
        "outputId": "5d31b928-89d3-4cef-ebfb-90792ac42ad1"
      },
      "outputs": [
        {
          "data": {
            "image/png": "[encoded data removed]",
            "text/plain": [
              "<Figure size 640x480 with 1 Axes>"
            ]
          },
          "metadata": {},
          "output_type": "display_data"
        }
      ],
      "source": [
        "import matplotlib.pyplot as plt\n",
        "plt.plot(losses)\n",
        "plt.title(\"Training Loss Over Epochs\")\n",
        "plt.xlabel(\"Epoch\")\n",
        "plt.ylabel(\"Loss\")\n",
        "plt.grid(True)\n",
        "plt.show()"
      ]
    },
    {
      "cell_type": "markdown",
      "metadata": {
        "id": "HEcb621KZlZK"
      },
      "source": [
        " Step 6: Evaluate the Model"
      ]
    },
    {
      "cell_type": "code",
      "execution_count": null,
      "metadata": {
        "colab": {
          "base_uri": "https://localhost:8080/"
        },
        "id": "AtjZLx9DSLlI",
        "outputId": "ebcd10fb-8d54-4101-9ab6-b8f880133021"
      },
      "outputs": [
        {
          "name": "stdout",
          "output_type": "stream",
          "text": [
            "Accuracy:  0.6686\n",
            "Precision: 0.6686\n",
            "Recall:    1.0000\n",
            "F1 Score:  0.8014\n"
          ]
        }
      ],
      "source": [
        "from sklearn.metrics import accuracy_score, precision_score, recall_score, f1_score\n",
        "model.eval()\n",
        "with torch.no_grad():\n",
        "    y_pred_probs = model(X_test_tensor)\n",
        "y_pred = (y_pred_probs >= 0.5).int().numpy()\n",
        "y_true = y_test_tensor.numpy()\n",
        "accuracy = accuracy_score(y_true, y_pred)\n",
        "precision = precision_score(y_true, y_pred, zero_division=0)\n",
        "recall = recall_score(y_true, y_pred, zero_division=0)\n",
        "f1 = f1_score(y_true, y_pred, zero_division=0)\n",
        "print(f\"Accuracy:  {accuracy:.4f}\")\n",
        "print(f\"Precision: {precision:.4f}\")\n",
        "print(f\"Recall:    {recall:.4f}\")\n",
        "print(f\"F1 Score:  {f1:.4f}\")\n"
      ]
    },
    {
      "cell_type": "markdown",
      "metadata": {
        "id": "fWePTRvYag7t"
      },
      "source": [
        "###Summary:\n",
        "\n",
        "Built a binary classifier using PyTorch to predict if a user will complete a book, based on book metadata.\n",
        "\n",
        "**Dataset**: Goodbooks-10K (books.csv + ratings.csv)  \n",
        "**Label**: 1 if rating ≥ 4, else 0\n",
        "\n",
        "**Features Used**:  \n",
        "- average_rating  \n",
        "- ratings_count  \n",
        "- original_publication_year\n",
        "- books_count\n",
        "\n",
        "**Model**:  \n",
        "- MLP with 2 hidden layers (ReLU), final Sigmoid layer  \n",
        "- Trained for 20 epochs using Binary Cross Entropy + Adam\n",
        "\n",
        "**Results**:\n",
        "- Accuracy: 66.86%  \n",
        "- Precision: 66.86%  \n",
        "- Recall: 100%  \n",
        "- F1 Score: 80.14%\n",
        "\n",
        " No data leakage,rating not used as input. All results from real metadata.\n"
      ]
    }
  ],
  "metadata": {
    "accelerator": "GPU",
    "colab": {
      "gpuType": "T4",
      "provenance": []
    },
    "kernelspec": {
      "display_name": "Python 3",
      "name": "python3"
    },
    "language_info": {
      "name": "python"
    }
  },
  "nbformat": 4,
  "nbformat_minor": 0
}
