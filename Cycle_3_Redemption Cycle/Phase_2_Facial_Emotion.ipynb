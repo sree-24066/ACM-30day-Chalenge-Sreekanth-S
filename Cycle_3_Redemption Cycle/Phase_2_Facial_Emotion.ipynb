{
  "nbformat": 4,
  "nbformat_minor": 0,
  "metadata": {
    "colab": {
      "provenance": [],
      "gpuType": "T4"
    },
    "kernelspec": {
      "name": "python3",
      "display_name": "Python 3"
    },
    "language_info": {
      "name": "python"
    },
    "accelerator": "GPU"
  },
  "cells": [
    {
      "cell_type": "code",
      "execution_count": null,
      "metadata": {
        "colab": {
          "base_uri": "https://localhost:8080/"
        },
        "id": "jp6W31Ue2RwF",
        "outputId": "4099228b-7e3b-49dc-9e9c-8d99b86875c6"
      },
      "outputs": [
        {
          "output_type": "stream",
          "name": "stdout",
          "text": [
            "Mounted at /content/drive\n"
          ]
        }
      ],
      "source": [
        "from google.colab import drive\n",
        "drive.mount('/content/drive')"
      ]
    },
    {
      "cell_type": "code",
      "source": [
        "!cp /content/drive/MyDrive/archive.zip ."
      ],
      "metadata": {
        "id": "Z7mXOJda21Cl"
      },
      "execution_count": null,
      "outputs": []
    },
    {
      "cell_type": "code",
      "source": [
        "import zipfile\n",
        "with zipfile.ZipFile(\"archive.zip\", 'r') as zip_ref:\n",
        "    zip_ref.extractall(\"archive\")"
      ],
      "metadata": {
        "id": "K6FWbD1T3TwX"
      },
      "execution_count": null,
      "outputs": []
    },
    {
      "cell_type": "code",
      "source": [
        "import os\n",
        "print(os.listdir(\"archive\"))"
      ],
      "metadata": {
        "colab": {
          "base_uri": "https://localhost:8080/"
        },
        "id": "72RuCLty3mbG",
        "outputId": "3ce1fc06-e9a2-45f4-ac0f-d224bcb812a7"
      },
      "execution_count": null,
      "outputs": [
        {
          "output_type": "stream",
          "name": "stdout",
          "text": [
            "['test', 'train']\n"
          ]
        }
      ]
    },
    {
      "cell_type": "markdown",
      "source": [
        "Step 1:Load the Dataset using PyTorch"
      ],
      "metadata": {
        "id": "wDKqgA2NwCq3"
      }
    },
    {
      "cell_type": "code",
      "source": [
        "import torch\n",
        "from torchvision import datasets, transforms\n",
        "from torch.utils.data import DataLoader\n",
        "transform = transforms.Compose([\n",
        "    transforms.Grayscale(num_output_channels=1),\n",
        "    transforms.Resize((48, 48)),\n",
        "    transforms.ToTensor(),\n",
        "    transforms.Normalize((0.5,), (0.5,))\n",
        "])\n",
        "train_dataset = datasets.ImageFolder(root='archive/train', transform=transform)\n",
        "test_dataset = datasets.ImageFolder(root='archive/test', transform=transform)\n",
        "train_loader = DataLoader(train_dataset, batch_size=64, shuffle=True)\n",
        "test_loader = DataLoader(test_dataset, batch_size=64, shuffle=False)\n",
        "print(\"Class labels:\", train_dataset.classes)"
      ],
      "metadata": {
        "colab": {
          "base_uri": "https://localhost:8080/"
        },
        "id": "es2829Ve313a",
        "outputId": "cdcb91d8-6fdb-4e32-ef20-e4726add23ed"
      },
      "execution_count": null,
      "outputs": [
        {
          "output_type": "stream",
          "name": "stdout",
          "text": [
            "Class labels: ['angry', 'disgust', 'fear', 'happy', 'neutral', 'sad', 'surprise']\n"
          ]
        }
      ]
    },
    {
      "cell_type": "markdown",
      "source": [
        "Step 2: Visualize Some Training Images"
      ],
      "metadata": {
        "id": "u2lcsfWrwMKQ"
      }
    },
    {
      "cell_type": "code",
      "source": [
        "import matplotlib.pyplot as plt\n",
        "import numpy as np\n",
        "def imshow(img, label):\n",
        "    img = img * 0.5 + 0.5\n",
        "    npimg = img.numpy()\n",
        "    plt.imshow(np.transpose(npimg, (1, 2, 0)), cmap='gray')\n",
        "    plt.title(\"Label: \" + label)\n",
        "    plt.axis('off')\n",
        "    plt.show()\n",
        "dataiter = iter(train_loader)\n",
        "images, labels = next(dataiter)\n",
        "for i in range(5):\n",
        "    imshow(images[i], train_dataset.classes[labels[i]])"
      ],
      "metadata": {
        "colab": {
          "base_uri": "https://localhost:8080/",
          "height": 1000
        },
        "id": "kUMtjOBU6Kyq",
        "outputId": "5a20b483-4985-49f1-813a-e8a2ba37300b"
      },
      "execution_count": null,
      "outputs": [
        {
          "output_type": "display_data",
          "data": {
            "text/plain": [
              "<Figure size 640x480 with 1 Axes>"
            ],
            "image/png": "[encoded data removed]"
          },
          "metadata": {}
        },
        {
          "output_type": "display_data",
          "data": {
            "text/plain": [
              "<Figure size 640x480 with 1 Axes>"
            ],
            "image/png": "[encoded data removed]"
          },
          "metadata": {}
        },
        {
          "output_type": "display_data",
          "data": {
            "text/plain": [
              "<Figure size 640x480 with 1 Axes>"
            ],
            "image/png": "[encoded data removed]"
          },
          "metadata": {}
        },
        {
          "output_type": "display_data",
          "data": {
            "text/plain": [
              "<Figure size 640x480 with 1 Axes>"
            ],
            "image/png": "[encoded data removed]"
          },
          "metadata": {}
        },
        {
          "output_type": "display_data",
          "data": {
            "text/plain": [
              "<Figure size 640x480 with 1 Axes>"
            ],
            "image/png": "[encoded data removed]"
          },
          "metadata": {}
        }
      ]
    },
    {
      "cell_type": "markdown",
      "source": [
        " Step 3: Build the CNN Architecture"
      ],
      "metadata": {
        "id": "26Mfg1f3wr2z"
      }
    },
    {
      "cell_type": "code",
      "source": [
        "import torch.nn as nn\n",
        "import torch.nn.functional as F\n",
        "class EmotionCNN(nn.Module):\n",
        "    def __init__(self):\n",
        "        super(EmotionCNN, self).__init__()\n",
        "        self.conv1 = nn.Conv2d(1, 32, kernel_size=3, padding=1)\n",
        "        self.bn1 = nn.BatchNorm2d(32)\n",
        "        self.pool1 = nn.MaxPool2d(2, 2)\n",
        "        self.conv2 = nn.Conv2d(32, 64, kernel_size=3, padding=1)\n",
        "        self.bn2 = nn.BatchNorm2d(64)\n",
        "        self.pool2 = nn.MaxPool2d(2, 2)\n",
        "        self.conv3 = nn.Conv2d(64, 128, kernel_size=3, padding=1)\n",
        "        self.bn3 = nn.BatchNorm2d(128)\n",
        "        self.pool3 = nn.MaxPool2d(2, 2)\n",
        "        self.fc1 = nn.Linear(128 * 6 * 6, 256)  # 6x6 from 48x48 after 3 pools\n",
        "        self.dropout = nn.Dropout(0.5)\n",
        "        self.fc2 = nn.Linear(256, 7)  # 7 output classes\n",
        "    def forward(self, x):\n",
        "        x = self.pool1(F.relu(self.bn1(self.conv1(x))))\n",
        "        x = self.pool2(F.relu(self.bn2(self.conv2(x))))\n",
        "        x = self.pool3(F.relu(self.bn3(self.conv3(x))))\n",
        "        x = x.view(-1, 128 * 6 * 6)\n",
        "        x = F.relu(self.fc1(x))\n",
        "        x = self.dropout(x)\n",
        "        x = self.fc2(x)\n",
        "        return x"
      ],
      "metadata": {
        "id": "M7vPKtC88QhZ"
      },
      "execution_count": null,
      "outputs": []
    },
    {
      "cell_type": "markdown",
      "source": [
        "Step 4:Initialize the Model"
      ],
      "metadata": {
        "id": "WU_mc1wXxX0C"
      }
    },
    {
      "cell_type": "code",
      "source": [
        "import torch\n",
        "device = torch.device(\"cuda\" if torch.cuda.is_available() else \"cpu\")\n",
        "print(\"Using device:\", device)\n",
        "model = EmotionCNN().to(device)"
      ],
      "metadata": {
        "colab": {
          "base_uri": "https://localhost:8080/"
        },
        "id": "ooP3Njtb8X-x",
        "outputId": "d1db7960-8efa-4927-f326-084236b5bf85"
      },
      "execution_count": null,
      "outputs": [
        {
          "output_type": "stream",
          "name": "stdout",
          "text": [
            "Using device: cuda\n"
          ]
        }
      ]
    },
    {
      "cell_type": "markdown",
      "source": [
        "Step 5:Define Loss Function and Optimizer"
      ],
      "metadata": {
        "id": "t9f0z06dxpwg"
      }
    },
    {
      "cell_type": "code",
      "source": [
        "import torch.optim as optim\n",
        "criterion = nn.CrossEntropyLoss()\n",
        "optimizer = optim.Adam(model.parameters(), lr=0.001)"
      ],
      "metadata": {
        "id": "8zIG-kgH8nRh"
      },
      "execution_count": null,
      "outputs": []
    },
    {
      "cell_type": "markdown",
      "source": [
        "Step 6: Training the CNN Model"
      ],
      "metadata": {
        "id": "p1XHFTUxx2iC"
      }
    },
    {
      "cell_type": "code",
      "source": [
        "num_epochs = 10\n",
        "for epoch in range(num_epochs):\n",
        "    model.train()\n",
        "    running_loss = 0.0\n",
        "    correct = 0\n",
        "    total = 0\n",
        "    for images, labels in train_loader:\n",
        "        images, labels = images.to(device), labels.to(device)\n",
        "        optimizer.zero_grad()\n",
        "        outputs = model(images)\n",
        "        loss = criterion(outputs, labels)\n",
        "        loss.backward()\n",
        "        optimizer.step()\n",
        "        running_loss += loss.item()\n",
        "        _, predicted = torch.max(outputs.data, 1)\n",
        "        total += labels.size(0)\n",
        "        correct += (predicted == labels).sum().item()\n",
        "    epoch_loss = running_loss / len(train_loader)\n",
        "    epoch_acc = 100 * correct / total\n",
        "    print(f\"Epoch [{epoch+1}/{num_epochs}], Loss: {epoch_loss:.4f}, Accuracy: {epoch_acc:.2f}%\")"
      ],
      "metadata": {
        "colab": {
          "base_uri": "https://localhost:8080/"
        },
        "id": "8tAeXovZ8pVj",
        "outputId": "cc74e5d9-db2b-448a-d105-5d584339269a"
      },
      "execution_count": null,
      "outputs": [
        {
          "output_type": "stream",
          "name": "stdout",
          "text": [
            "Epoch [1/10], Loss: 1.7364, Accuracy: 29.51%\n",
            "Epoch [2/10], Loss: 1.5505, Accuracy: 37.57%\n",
            "Epoch [3/10], Loss: 1.4681, Accuracy: 40.99%\n",
            "Epoch [4/10], Loss: 1.4289, Accuracy: 43.35%\n",
            "Epoch [5/10], Loss: 1.3923, Accuracy: 44.52%\n",
            "Epoch [6/10], Loss: 1.3585, Accuracy: 46.22%\n",
            "Epoch [7/10], Loss: 1.3218, Accuracy: 47.47%\n",
            "Epoch [8/10], Loss: 1.3000, Accuracy: 48.17%\n",
            "Epoch [9/10], Loss: 1.2636, Accuracy: 49.50%\n",
            "Epoch [10/10], Loss: 1.2474, Accuracy: 49.98%\n"
          ]
        }
      ]
    },
    {
      "cell_type": "markdown",
      "source": [
        "Step 7:Evaluate Model on Test Set"
      ],
      "metadata": {
        "id": "CVkQQQMAyYK-"
      }
    },
    {
      "cell_type": "code",
      "source": [
        "from sklearn.metrics import confusion_matrix, classification_report\n",
        "import numpy as np\n",
        "model.eval()\n",
        "all_preds = []\n",
        "all_labels = []\n",
        "with torch.no_grad():\n",
        "    for images, labels in test_loader:\n",
        "        images = images.to(device)\n",
        "        labels = labels.to(device)\n",
        "        outputs = model(images)\n",
        "        _, predicted = torch.max(outputs, 1)\n",
        "        all_preds.extend(predicted.cpu().numpy())\n",
        "        all_labels.extend(labels.cpu().numpy())\n",
        "cm = confusion_matrix(all_labels, all_preds)\n",
        "print(\"Confusion Matrix:\\n\", cm)\n",
        "target_names = train_dataset.classes\n",
        "print(\"\\nClassification Report:\")\n",
        "print(classification_report(all_labels, all_preds, target_names=target_names))"
      ],
      "metadata": {
        "colab": {
          "base_uri": "https://localhost:8080/"
        },
        "id": "kMAOq05FNFij",
        "outputId": "95cfbd6c-4b84-4e58-ece3-f1f58a9f47a8"
      },
      "execution_count": null,
      "outputs": [
        {
          "output_type": "stream",
          "name": "stdout",
          "text": [
            "Confusion Matrix:\n",
            " [[ 296    0   44   83   63  454   18]\n",
            " [  65    0    6    3    3   34    0]\n",
            " [ 130    0  182   66   76  479   91]\n",
            " [  35    0   32 1433  124  132   18]\n",
            " [  24    0   23   94  535  555    2]\n",
            " [ 109    0   46   81  191  814    6]\n",
            " [  15    0  163   71   14   73  495]]\n",
            "\n",
            "Classification Report:\n",
            "              precision    recall  f1-score   support\n",
            "\n",
            "       angry       0.44      0.31      0.36       958\n",
            "     disgust       0.00      0.00      0.00       111\n",
            "        fear       0.37      0.18      0.24      1024\n",
            "       happy       0.78      0.81      0.80      1774\n",
            "     neutral       0.53      0.43      0.48      1233\n",
            "         sad       0.32      0.65      0.43      1247\n",
            "    surprise       0.79      0.60      0.68       831\n",
            "\n",
            "    accuracy                           0.52      7178\n",
            "   macro avg       0.46      0.43      0.43      7178\n",
            "weighted avg       0.54      0.52      0.51      7178\n",
            "\n"
          ]
        },
        {
          "output_type": "stream",
          "name": "stderr",
          "text": [
            "/usr/local/lib/python3.11/dist-packages/sklearn/metrics/_classification.py:1565: UndefinedMetricWarning: Precision is ill-defined and being set to 0.0 in labels with no predicted samples. Use `zero_division` parameter to control this behavior.\n",
            "  _warn_prf(average, modifier, f\"{metric.capitalize()} is\", len(result))\n",
            "/usr/local/lib/python3.11/dist-packages/sklearn/metrics/_classification.py:1565: UndefinedMetricWarning: Precision is ill-defined and being set to 0.0 in labels with no predicted samples. Use `zero_division` parameter to control this behavior.\n",
            "  _warn_prf(average, modifier, f\"{metric.capitalize()} is\", len(result))\n",
            "/usr/local/lib/python3.11/dist-packages/sklearn/metrics/_classification.py:1565: UndefinedMetricWarning: Precision is ill-defined and being set to 0.0 in labels with no predicted samples. Use `zero_division` parameter to control this behavior.\n",
            "  _warn_prf(average, modifier, f\"{metric.capitalize()} is\", len(result))\n"
          ]
        }
      ]
    },
    {
      "cell_type": "markdown",
      "source": [
        "###Summary:\n",
        "**Dataset**: FER2013 (7 emotion classes)  \n",
        "**Preprocessing**: Grayscale, resized to 48×48, normalized [-1, 1]  \n",
        "**Model**: Custom CNN with Conv >> ReLU >> BatchNorm >> MaxPool layers  \n",
        "**Training**: 10 epochs, Adam optimizer, CrossEntropyLoss  \n",
        "**Accuracy**:\n",
        "- Final training accuracy: **55.69%**\n",
        "- Test accuracy: **52%**\n",
        "\n",
        "**Best Performing Classes**: happy, surprise  \n",
        "**Weak Class**: disgust (class imbalance)\n",
        "\n",
        "**Evaluation**: Confusion matrix and classification report generated  \n",
        "**Device Used**: GPU (CUDA)\n",
        "\n",
        "\n"
      ],
      "metadata": {
        "id": "w8xIm717zZ7c"
      }
    }
  ]
}