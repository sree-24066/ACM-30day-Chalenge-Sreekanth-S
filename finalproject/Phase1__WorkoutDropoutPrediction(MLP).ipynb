{
  "nbformat": 4,
  "nbformat_minor": 0,
  "metadata": {
    "colab": {
      "provenance": [],
      "gpuType": "T4"
    },
    "kernelspec": {
      "name": "python3",
      "display_name": "Python 3"
    },
    "language_info": {
      "name": "python"
    },
    "accelerator": "GPU"
  },
  "cells": [
    {
      "cell_type": "markdown",
      "source": [
        "Step 1: Load and Explore the Dataset"
      ],
      "metadata": {
        "id": "Up-WaB-Sdn7y"
      }
    },
    {
      "cell_type": "code",
      "execution_count": 2,
      "metadata": {
        "colab": {
          "base_uri": "https://localhost:8080/"
        },
        "id": "oAYaVb1lbWEr",
        "outputId": "457809a9-4089-409b-9036-4d65d76978f9"
      },
      "outputs": [
        {
          "output_type": "stream",
          "name": "stderr",
          "text": [
            "/tmp/ipython-input-1827428517.py:4: DtypeWarning: Columns (4,5,7,8) have mixed types. Specify dtype option on import or set low_memory=False.\n",
            "  df = pd.read_csv('/content/HR_Engagement_Survey_Data_with_Question_Details.csv')\n"
          ]
        },
        {
          "output_type": "stream",
          "name": "stdout",
          "text": [
            "       Year    Status   Role      Department Director Manager  Supervisor  \\\n",
            "0  2020 Jun  Complete  Staff  Human Services    False   False       False   \n",
            "1  2020 Jun  Complete  Staff  District Court    False   False       False   \n",
            "2  2020 Jun  Complete  Staff  Superior Court    False   False       False   \n",
            "3  2021 May  Complete   Lead  Human Services    False   False       False   \n",
            "4  2019 May   Partial    NaN             NaN    False   False       False   \n",
            "\n",
            "    Lead  Staff                                    Question  Answer_Numeric  \\\n",
            "0  False   True     07. At work, my opinions seem to count.               3   \n",
            "1  False   True     07. At work, my opinions seem to count.               3   \n",
            "2  False   True     07. At work, my opinions seem to count.               3   \n",
            "3   True  False     07. At work, my opinions seem to count.               3   \n",
            "4  False  False  01. I know what is expected of me at work.               0   \n",
            "\n",
            "  Answer_Text  \n",
            "0       Agree  \n",
            "1       Agree  \n",
            "2       Agree  \n",
            "3       Agree  \n",
            "4         NaN  \n",
            "<class 'pandas.core.frame.DataFrame'>\n",
            "RangeIndex: 132549 entries, 0 to 132548\n",
            "Data columns (total 12 columns):\n",
            " #   Column          Non-Null Count   Dtype \n",
            "---  ------          --------------   ----- \n",
            " 0   Year            132549 non-null  object\n",
            " 1   Status          132549 non-null  object\n",
            " 2   Role            131954 non-null  object\n",
            " 3   Department      131818 non-null  object\n",
            " 4   Director        132345 non-null  object\n",
            " 5   Manager         132345 non-null  object\n",
            " 6   Supervisor      132549 non-null  bool  \n",
            " 7   Lead            132345 non-null  object\n",
            " 8   Staff           132345 non-null  object\n",
            " 9   Question        132549 non-null  object\n",
            " 10  Answer_Numeric  132549 non-null  int64 \n",
            " 11  Answer_Text     131804 non-null  object\n",
            "dtypes: bool(1), int64(1), object(10)\n",
            "memory usage: 11.3+ MB\n",
            "None\n",
            "Year                0\n",
            "Status              0\n",
            "Role              595\n",
            "Department        731\n",
            "Director          204\n",
            "Manager           204\n",
            "Supervisor          0\n",
            "Lead              204\n",
            "Staff             204\n",
            "Question            0\n",
            "Answer_Numeric      0\n",
            "Answer_Text       745\n",
            "dtype: int64\n"
          ]
        }
      ],
      "source": [
        "import pandas as pd\n",
        "df = pd.read_csv('/content/HR_Engagement_Survey_Data_with_Question_Details.csv')\n",
        "print(df.head())\n",
        "print(df.info())\n",
        "print(df.isnull().sum())"
      ]
    },
    {
      "cell_type": "markdown",
      "source": [
        "Step 2: Data Cleaning and Preprocessing"
      ],
      "metadata": {
        "id": "fHJ5rhYodqGO"
      }
    },
    {
      "cell_type": "code",
      "source": [
        "df['Status'] = df['Status'].map({'Complete': 0, 'Partial': 1})\n",
        "df['Lead'] = df['Lead'].fillna(False).astype(bool)\n",
        "df['Staff'] = df['Staff'].fillna(False).astype(bool)\n",
        "df['Supervisor'] = df['Supervisor'].astype(bool)\n",
        "categorical_cols = ['Role', 'Department', 'Director', 'Manager']\n",
        "\n",
        "for col in categorical_cols:\n",
        "    df[col] = df[col].fillna('Unknown')\n",
        "df = pd.get_dummies(df, columns=categorical_cols, drop_first=True)\n",
        "\n",
        "from sklearn.preprocessing import MinMaxScaler\n",
        "scaler = MinMaxScaler()\n",
        "df['Answer_Numeric'] = scaler.fit_transform(df[['Answer_Numeric']])\n",
        "features = ['Lead', 'Staff', 'Supervisor', 'Answer_Numeric'] + \\\n",
        "           [col for col in df.columns if col.startswith(tuple(categorical_cols))]\n",
        "\n",
        "X = df[features]\n",
        "y = df['Status']\n",
        "\n",
        "X = X.copy()\n",
        "for col in ['Lead', 'Staff', 'Supervisor']:\n",
        "    X[col] = X[col].astype(int)\n",
        "\n",
        "print(X.head())\n",
        "print(y.head())\n"
      ],
      "metadata": {
        "colab": {
          "base_uri": "https://localhost:8080/"
        },
        "id": "X2Bp8cDXbvs9",
        "outputId": "f5ffd101-9b93-480d-d15d-b26f7c2a3a2d"
      },
      "execution_count": 3,
      "outputs": [
        {
          "output_type": "stream",
          "name": "stderr",
          "text": [
            "/tmp/ipython-input-3805938653.py:5: FutureWarning: Downcasting object dtype arrays on .fillna, .ffill, .bfill is deprecated and will change in a future version. Call result.infer_objects(copy=False) instead. To opt-in to the future behavior, set `pd.set_option('future.no_silent_downcasting', True)`\n",
            "  df['Lead'] = df['Lead'].fillna(False).astype(bool)\n",
            "/tmp/ipython-input-3805938653.py:6: FutureWarning: Downcasting object dtype arrays on .fillna, .ffill, .bfill is deprecated and will change in a future version. Call result.infer_objects(copy=False) instead. To opt-in to the future behavior, set `pd.set_option('future.no_silent_downcasting', True)`\n",
            "  df['Staff'] = df['Staff'].fillna(False).astype(bool)\n"
          ]
        },
        {
          "output_type": "stream",
          "name": "stdout",
          "text": [
            "   Lead  Staff  Supervisor  Answer_Numeric  Role_Lead  Role_Manager  \\\n",
            "0     0      1           0            0.75      False         False   \n",
            "1     0      1           0            0.75      False         False   \n",
            "2     0      1           0            0.75      False         False   \n",
            "3     1      0           0            0.75       True         False   \n",
            "4     0      0           0            0.00      False         False   \n",
            "\n",
            "   Role_Staff  Role_Staff Member  Role_Supervisor  Role_Unknown  ...  \\\n",
            "0        True              False            False         False  ...   \n",
            "1        True              False            False         False  ...   \n",
            "2        True              False            False         False  ...   \n",
            "3       False              False            False         False  ...   \n",
            "4       False              False            False          True  ...   \n",
            "\n",
            "   Department_Parks and Recreation  Department_Planning and Public Works  \\\n",
            "0                            False                                 False   \n",
            "1                            False                                 False   \n",
            "2                            False                                 False   \n",
            "3                            False                                 False   \n",
            "4                            False                                 False   \n",
            "\n",
            "   Department_Prosecuting Attorney's Office  Department_Sheriff's Department  \\\n",
            "0                                     False                            False   \n",
            "1                                     False                            False   \n",
            "2                                     False                            False   \n",
            "3                                     False                            False   \n",
            "4                                     False                            False   \n",
            "\n",
            "   Department_Superior Court  Department_Unknown  Director_True  \\\n",
            "0                      False               False          False   \n",
            "1                      False               False          False   \n",
            "2                       True               False          False   \n",
            "3                      False               False          False   \n",
            "4                      False                True          False   \n",
            "\n",
            "   Director_Unknown  Manager_True  Manager_Unknown  \n",
            "0             False         False            False  \n",
            "1             False         False            False  \n",
            "2             False         False            False  \n",
            "3             False         False            False  \n",
            "4             False         False            False  \n",
            "\n",
            "[5 rows x 37 columns]\n",
            "0    0\n",
            "1    0\n",
            "2    0\n",
            "3    0\n",
            "4    1\n",
            "Name: Status, dtype: int64\n"
          ]
        }
      ]
    },
    {
      "cell_type": "markdown",
      "source": [
        "Step 3: Convert Data to PyTorch Tensors"
      ],
      "metadata": {
        "id": "i33o3_uBdxrB"
      }
    },
    {
      "cell_type": "code",
      "source": [
        "import numpy as np\n",
        "import torch\n",
        "X_np = np.array(X.values, dtype=np.float32)\n",
        "y_np = np.array(y.values, dtype=np.float32)\n",
        "X_tensor = torch.from_numpy(X_np)\n",
        "y_tensor = torch.tensor(y_np).unsqueeze(1)"
      ],
      "metadata": {
        "id": "vN6XemUvb2pE"
      },
      "execution_count": 4,
      "outputs": []
    },
    {
      "cell_type": "markdown",
      "source": [
        "Step 4: Create DataLoader and Split Dataset"
      ],
      "metadata": {
        "id": "OfaSAH4Rd2Gi"
      }
    },
    {
      "cell_type": "code",
      "source": [
        "from sklearn.model_selection import train_test_split\n",
        "from torch.utils.data import DataLoader, TensorDataset\n",
        "X_train, X_val, y_train, y_val = train_test_split(X_tensor, y_tensor, test_size=0.2, random_state=42)\n",
        "train_dataset = TensorDataset(X_train, y_train)\n",
        "val_dataset = TensorDataset(X_val, y_val)\n",
        "train_loader = DataLoader(train_dataset, batch_size=64, shuffle=True)\n",
        "val_loader = DataLoader(val_dataset, batch_size=64)\n"
      ],
      "metadata": {
        "id": "Qusjn7tob5Um"
      },
      "execution_count": 5,
      "outputs": []
    },
    {
      "cell_type": "markdown",
      "source": [
        "Step 5: Define the MLP Model"
      ],
      "metadata": {
        "id": "2XyzB3ljd59u"
      }
    },
    {
      "cell_type": "code",
      "source": [
        "import torch.nn as nn\n",
        "class MLP(nn.Module):\n",
        "    def __init__(self, input_size):\n",
        "        super(MLP, self).__init__()\n",
        "        self.layers = nn.Sequential(\n",
        "            nn.Linear(input_size, 64),\n",
        "            nn.ReLU(),\n",
        "            nn.Linear(64, 32),\n",
        "            nn.ReLU(),\n",
        "            nn.Linear(32, 1),\n",
        "            nn.Sigmoid()\n",
        "        )\n",
        "\n",
        "    def forward(self, x):\n",
        "        return self.layers(x)\n",
        "\n",
        "model = MLP(X.shape[1])"
      ],
      "metadata": {
        "id": "baQtl1kbb-8g"
      },
      "execution_count": 6,
      "outputs": []
    },
    {
      "cell_type": "markdown",
      "source": [
        "Step 6: Train the Model"
      ],
      "metadata": {
        "id": "F_lAKw-Bd_gH"
      }
    },
    {
      "cell_type": "code",
      "source": [
        "import torch.optim as optim\n",
        "\n",
        "criterion = nn.BCELoss()\n",
        "optimizer = optim.Adam(model.parameters(), lr=0.001)\n",
        "\n",
        "epochs = 10\n",
        "\n",
        "for epoch in range(epochs):\n",
        "    model.train()\n",
        "    train_loss = 0\n",
        "    for features, labels in train_loader:\n",
        "        optimizer.zero_grad()\n",
        "        outputs = model(features)\n",
        "        loss = criterion(outputs, labels)\n",
        "        loss.backward()\n",
        "        optimizer.step()\n",
        "        train_loss += loss.item() * features.size(0)\n",
        "\n",
        "    train_loss /= len(train_loader.dataset)\n",
        "\n",
        "    model.eval()\n",
        "    val_loss = 0\n",
        "    correct = 0\n",
        "    total = 0\n",
        "    with torch.no_grad():\n",
        "        for features, labels in val_loader:\n",
        "            outputs = model(features)\n",
        "            loss = criterion(outputs, labels)\n",
        "            val_loss += loss.item() * features.size(0)\n",
        "            preds = (outputs >= 0.5).float()\n",
        "            correct += (preds == labels).sum().item()\n",
        "            total += labels.size(0)\n",
        "\n",
        "    val_loss /= len(val_loader.dataset)\n",
        "    val_acc = correct / total\n",
        "\n",
        "    print(f\"Epoch {epoch+1}/{epochs}, Train Loss: {train_loss:.4f}, Val Loss: {val_loss:.4f}, Val Accuracy: {val_acc:.4f}\")\n"
      ],
      "metadata": {
        "colab": {
          "base_uri": "https://localhost:8080/"
        },
        "id": "y3bWHUC_cD2o",
        "outputId": "bdfb7701-7afc-4290-c2b7-6a7d48ec8118"
      },
      "execution_count": 7,
      "outputs": [
        {
          "output_type": "stream",
          "name": "stdout",
          "text": [
            "Epoch 1/10, Train Loss: 0.0311, Val Loss: 0.0156, Val Accuracy: 0.9973\n",
            "Epoch 2/10, Train Loss: 0.0123, Val Loss: 0.0145, Val Accuracy: 0.9973\n",
            "Epoch 3/10, Train Loss: 0.0120, Val Loss: 0.0145, Val Accuracy: 0.9967\n",
            "Epoch 4/10, Train Loss: 0.0116, Val Loss: 0.0136, Val Accuracy: 0.9973\n",
            "Epoch 5/10, Train Loss: 0.0114, Val Loss: 0.0144, Val Accuracy: 0.9974\n",
            "Epoch 6/10, Train Loss: 0.0114, Val Loss: 0.0140, Val Accuracy: 0.9974\n",
            "Epoch 7/10, Train Loss: 0.0112, Val Loss: 0.0142, Val Accuracy: 0.9973\n",
            "Epoch 8/10, Train Loss: 0.0111, Val Loss: 0.0130, Val Accuracy: 0.9974\n",
            "Epoch 9/10, Train Loss: 0.0110, Val Loss: 0.0138, Val Accuracy: 0.9973\n",
            "Epoch 10/10, Train Loss: 0.0110, Val Loss: 0.0128, Val Accuracy: 0.9975\n"
          ]
        }
      ]
    },
    {
      "cell_type": "markdown",
      "source": [
        "Step 7: Evaluate with Precision, Recall, and F1-Score"
      ],
      "metadata": {
        "id": "qOvAjrQCeDgf"
      }
    },
    {
      "cell_type": "code",
      "source": [
        "from sklearn.metrics import precision_score, recall_score, f1_score\n",
        "\n",
        "model.eval()\n",
        "all_preds = []\n",
        "all_labels = []\n",
        "\n",
        "with torch.no_grad():\n",
        "    for features, labels in val_loader:\n",
        "        outputs = model(features)\n",
        "        preds = (outputs >= 0.5).int().squeeze().tolist()\n",
        "        all_preds.extend(preds if isinstance(preds, list) else [preds])\n",
        "        all_labels.extend(labels.int().squeeze().tolist() if isinstance(labels.int().squeeze().tolist(), list) else [labels.int().squeeze().tolist()])\n",
        "\n",
        "precision = precision_score(all_labels, all_preds)\n",
        "recall = recall_score(all_labels, all_preds)\n",
        "f1 = f1_score(all_labels, all_preds)\n",
        "\n",
        "print(f\"Precision: {precision:.4f}\")\n",
        "print(f\"Recall:    {recall:.4f}\")\n",
        "print(f\"F1-score:  {f1:.4f}\")\n"
      ],
      "metadata": {
        "colab": {
          "base_uri": "https://localhost:8080/"
        },
        "id": "fFZTA5hCcW9L",
        "outputId": "4a989e3d-5719-4b6b-bb2d-a7f3cd37bcd4"
      },
      "execution_count": 8,
      "outputs": [
        {
          "output_type": "stream",
          "name": "stdout",
          "text": [
            "Precision: 0.9921\n",
            "Recall:    0.6614\n",
            "F1-score:  0.7937\n"
          ]
        }
      ]
    }
  ]
}