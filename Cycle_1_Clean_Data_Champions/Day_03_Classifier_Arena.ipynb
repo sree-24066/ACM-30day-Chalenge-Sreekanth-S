{
  "cells": [
    {
      "cell_type": "markdown",
      "metadata": {
        "id": "wSVi79ERPFeF"
      },
      "source": [
        "#  Day 3 – Classifier Arena\n",
        "## Focus: Classification & Evaluation Metrics\n",
        "**Topics Covered:**  \n",
        "- Logistic Regression  \n",
        "- Linear Discriminant Analysis (LDA)  \n",
        "- Evaluation Metrics: Accuracy, Confusion Matrix, ROC-AUC\n"
      ]
    },
    {
      "cell_type": "code",
      "execution_count": 2,
      "metadata": {
        "colab": {
          "base_uri": "https://localhost:8080/",
          "height": 342
        },
        "id": "XINfJPSZMbeg",
        "outputId": "aae2a531-5332-409d-8dfa-cf8e043a3b70"
      },
      "outputs": [
        {
          "data": {
            "application/vnd.google.colaboratory.intrinsic+json": {
              "type": "dataframe",
              "variable_name": "df"
            },
            "text/html": [
              "\n",
              "  <div id=\"df-ae3ab67b-c551-4fe6-a0f0-49a21c551162\" class=\"colab-df-container\">\n",
              "    <div>\n",
              "<style scoped>\n",
              "    .dataframe tbody tr th:only-of-type {\n",
              "        vertical-align: middle;\n",
              "    }\n",
              "\n",
              "    .dataframe tbody tr th {\n",
              "        vertical-align: top;\n",
              "    }\n",
              "\n",
              "    .dataframe thead th {\n",
              "        text-align: right;\n",
              "    }\n",
              "</style>\n",
              "<table border=\"1\" class=\"dataframe\">\n",
              "  <thead>\n",
              "    <tr style=\"text-align: right;\">\n",
              "      <th></th>\n",
              "      <th>EmployeeID</th>\n",
              "      <th>Age</th>\n",
              "      <th>Gender</th>\n",
              "      <th>Country</th>\n",
              "      <th>JobRole</th>\n",
              "      <th>Department</th>\n",
              "      <th>YearsAtCompany</th>\n",
              "      <th>WorkHoursPerWeek</th>\n",
              "      <th>RemoteWork</th>\n",
              "      <th>BurnoutLevel</th>\n",
              "      <th>...</th>\n",
              "      <th>CommuteTime</th>\n",
              "      <th>HasMentalHealthSupport</th>\n",
              "      <th>ManagerSupportScore</th>\n",
              "      <th>HasTherapyAccess</th>\n",
              "      <th>MentalHealthDaysOff</th>\n",
              "      <th>SalaryRange</th>\n",
              "      <th>WorkLifeBalanceScore</th>\n",
              "      <th>TeamSize</th>\n",
              "      <th>CareerGrowthScore</th>\n",
              "      <th>BurnoutRisk</th>\n",
              "    </tr>\n",
              "  </thead>\n",
              "  <tbody>\n",
              "    <tr>\n",
              "      <th>0</th>\n",
              "      <td>1001</td>\n",
              "      <td>50</td>\n",
              "      <td>Male</td>\n",
              "      <td>UK</td>\n",
              "      <td>Sales Associate</td>\n",
              "      <td>HR</td>\n",
              "      <td>14</td>\n",
              "      <td>47</td>\n",
              "      <td>No</td>\n",
              "      <td>3.37</td>\n",
              "      <td>...</td>\n",
              "      <td>117</td>\n",
              "      <td>No</td>\n",
              "      <td>3.15</td>\n",
              "      <td>Yes</td>\n",
              "      <td>8</td>\n",
              "      <td>40K-60K</td>\n",
              "      <td>8.82</td>\n",
              "      <td>6</td>\n",
              "      <td>9.20</td>\n",
              "      <td>0</td>\n",
              "    </tr>\n",
              "    <tr>\n",
              "      <th>1</th>\n",
              "      <td>1002</td>\n",
              "      <td>36</td>\n",
              "      <td>Male</td>\n",
              "      <td>Germany</td>\n",
              "      <td>Software Engineer</td>\n",
              "      <td>IT</td>\n",
              "      <td>1</td>\n",
              "      <td>59</td>\n",
              "      <td>Hybrid</td>\n",
              "      <td>7.39</td>\n",
              "      <td>...</td>\n",
              "      <td>8</td>\n",
              "      <td>Yes</td>\n",
              "      <td>4.40</td>\n",
              "      <td>Yes</td>\n",
              "      <td>4</td>\n",
              "      <td>80K-100K</td>\n",
              "      <td>2.80</td>\n",
              "      <td>45</td>\n",
              "      <td>8.46</td>\n",
              "      <td>1</td>\n",
              "    </tr>\n",
              "    <tr>\n",
              "      <th>2</th>\n",
              "      <td>1003</td>\n",
              "      <td>29</td>\n",
              "      <td>Non-binary</td>\n",
              "      <td>India</td>\n",
              "      <td>IT Admin</td>\n",
              "      <td>IT</td>\n",
              "      <td>13</td>\n",
              "      <td>59</td>\n",
              "      <td>Hybrid</td>\n",
              "      <td>7.10</td>\n",
              "      <td>...</td>\n",
              "      <td>75</td>\n",
              "      <td>No</td>\n",
              "      <td>3.63</td>\n",
              "      <td>No</td>\n",
              "      <td>6</td>\n",
              "      <td>80K-100K</td>\n",
              "      <td>7.28</td>\n",
              "      <td>7</td>\n",
              "      <td>7.96</td>\n",
              "      <td>1</td>\n",
              "    </tr>\n",
              "    <tr>\n",
              "      <th>3</th>\n",
              "      <td>1004</td>\n",
              "      <td>42</td>\n",
              "      <td>Male</td>\n",
              "      <td>Australia</td>\n",
              "      <td>HR Specialist</td>\n",
              "      <td>IT</td>\n",
              "      <td>15</td>\n",
              "      <td>31</td>\n",
              "      <td>Yes</td>\n",
              "      <td>4.18</td>\n",
              "      <td>...</td>\n",
              "      <td>43</td>\n",
              "      <td>Yes</td>\n",
              "      <td>4.50</td>\n",
              "      <td>Yes</td>\n",
              "      <td>9</td>\n",
              "      <td>60K-80K</td>\n",
              "      <td>1.31</td>\n",
              "      <td>11</td>\n",
              "      <td>8.90</td>\n",
              "      <td>0</td>\n",
              "    </tr>\n",
              "    <tr>\n",
              "      <th>4</th>\n",
              "      <td>1005</td>\n",
              "      <td>40</td>\n",
              "      <td>Male</td>\n",
              "      <td>Brazil</td>\n",
              "      <td>Customer Support</td>\n",
              "      <td>Support</td>\n",
              "      <td>6</td>\n",
              "      <td>34</td>\n",
              "      <td>Yes</td>\n",
              "      <td>8.28</td>\n",
              "      <td>...</td>\n",
              "      <td>58</td>\n",
              "      <td>Yes</td>\n",
              "      <td>5.51</td>\n",
              "      <td>Yes</td>\n",
              "      <td>6</td>\n",
              "      <td>&lt;40K</td>\n",
              "      <td>1.17</td>\n",
              "      <td>18</td>\n",
              "      <td>8.88</td>\n",
              "      <td>1</td>\n",
              "    </tr>\n",
              "  </tbody>\n",
              "</table>\n",
              "<p>5 rows × 25 columns</p>\n",
              "</div>\n",
              "    <div class=\"colab-df-buttons\">\n",
              "\n",
              "  <div class=\"colab-df-container\">\n",
              "    <button class=\"colab-df-convert\" onclick=\"convertToInteractive('df-ae3ab67b-c551-4fe6-a0f0-49a21c551162')\"\n",
              "            title=\"Convert this dataframe to an interactive table.\"\n",
              "            style=\"display:none;\">\n",
              "\n",
              "  <svg xmlns=\"http://www.w3.org/2000/svg\" height=\"24px\" viewBox=\"0 -960 960 960\">\n",
              "    <path d=\"M120-120v-720h720v720H120Zm60-500h600v-160H180v160Zm220 220h160v-160H400v160Zm0 220h160v-160H400v160ZM180-400h160v-160H180v160Zm440 0h160v-160H620v160ZM180-180h160v-160H180v160Zm440 0h160v-160H620v160Z\"/>\n",
              "  </svg>\n",
              "    </button>\n",
              "\n",
              "  <style>\n",
              "    .colab-df-container {\n",
              "      display:flex;\n",
              "      gap: 12px;\n",
              "    }\n",
              "\n",
              "    .colab-df-convert {\n",
              "      background-color: #E8F0FE;\n",
              "      border: none;\n",
              "      border-radius: 50%;\n",
              "      cursor: pointer;\n",
              "      display: none;\n",
              "      fill: #1967D2;\n",
              "      height: 32px;\n",
              "      padding: 0 0 0 0;\n",
              "      width: 32px;\n",
              "    }\n",
              "\n",
              "    .colab-df-convert:hover {\n",
              "      background-color: #E2EBFA;\n",
              "      box-shadow: 0px 1px 2px rgba(60, 64, 67, 0.3), 0px 1px 3px 1px rgba(60, 64, 67, 0.15);\n",
              "      fill: #174EA6;\n",
              "    }\n",
              "\n",
              "    .colab-df-buttons div {\n",
              "      margin-bottom: 4px;\n",
              "    }\n",
              "\n",
              "    [theme=dark] .colab-df-convert {\n",
              "      background-color: #3B4455;\n",
              "      fill: #D2E3FC;\n",
              "    }\n",
              "\n",
              "    [theme=dark] .colab-df-convert:hover {\n",
              "      background-color: #434B5C;\n",
              "      box-shadow: 0px 1px 3px 1px rgba(0, 0, 0, 0.15);\n",
              "      filter: drop-shadow(0px 1px 2px rgba(0, 0, 0, 0.3));\n",
              "      fill: #FFFFFF;\n",
              "    }\n",
              "  </style>\n",
              "\n",
              "    <script>\n",
              "      const buttonEl =\n",
              "        document.querySelector('#df-ae3ab67b-c551-4fe6-a0f0-49a21c551162 button.colab-df-convert');\n",
              "      buttonEl.style.display =\n",
              "        google.colab.kernel.accessAllowed ? 'block' : 'none';\n",
              "\n",
              "      async function convertToInteractive(key) {\n",
              "        const element = document.querySelector('#df-ae3ab67b-c551-4fe6-a0f0-49a21c551162');\n",
              "        const dataTable =\n",
              "          await google.colab.kernel.invokeFunction('convertToInteractive',\n",
              "                                                    [key], {});\n",
              "        if (!dataTable) return;\n",
              "\n",
              "        const docLinkHtml = 'Like what you see? Visit the ' +\n",
              "          '<a target=\"_blank\" href=https://colab.research.google.com/notebooks/data_table.ipynb>data table notebook</a>'\n",
              "          + ' to learn more about interactive tables.';\n",
              "        element.innerHTML = '';\n",
              "        dataTable['output_type'] = 'display_data';\n",
              "        await google.colab.output.renderOutput(dataTable, element);\n",
              "        const docLink = document.createElement('div');\n",
              "        docLink.innerHTML = docLinkHtml;\n",
              "        element.appendChild(docLink);\n",
              "      }\n",
              "    </script>\n",
              "  </div>\n",
              "\n",
              "\n",
              "    <div id=\"df-36b9897b-65d0-419c-b542-6b7c3abf01ed\">\n",
              "      <button class=\"colab-df-quickchart\" onclick=\"quickchart('df-36b9897b-65d0-419c-b542-6b7c3abf01ed')\"\n",
              "                title=\"Suggest charts\"\n",
              "                style=\"display:none;\">\n",
              "\n",
              "<svg xmlns=\"http://www.w3.org/2000/svg\" height=\"24px\"viewBox=\"0 0 24 24\"\n",
              "     width=\"24px\">\n",
              "    <g>\n",
              "        <path d=\"M19 3H5c-1.1 0-2 .9-2 2v14c0 1.1.9 2 2 2h14c1.1 0 2-.9 2-2V5c0-1.1-.9-2-2-2zM9 17H7v-7h2v7zm4 0h-2V7h2v10zm4 0h-2v-4h2v4z\"/>\n",
              "    </g>\n",
              "</svg>\n",
              "      </button>\n",
              "\n",
              "<style>\n",
              "  .colab-df-quickchart {\n",
              "      --bg-color: #E8F0FE;\n",
              "      --fill-color: #1967D2;\n",
              "      --hover-bg-color: #E2EBFA;\n",
              "      --hover-fill-color: #174EA6;\n",
              "      --disabled-fill-color: #AAA;\n",
              "      --disabled-bg-color: #DDD;\n",
              "  }\n",
              "\n",
              "  [theme=dark] .colab-df-quickchart {\n",
              "      --bg-color: #3B4455;\n",
              "      --fill-color: #D2E3FC;\n",
              "      --hover-bg-color: #434B5C;\n",
              "      --hover-fill-color: #FFFFFF;\n",
              "      --disabled-bg-color: #3B4455;\n",
              "      --disabled-fill-color: #666;\n",
              "  }\n",
              "\n",
              "  .colab-df-quickchart {\n",
              "    background-color: var(--bg-color);\n",
              "    border: none;\n",
              "    border-radius: 50%;\n",
              "    cursor: pointer;\n",
              "    display: none;\n",
              "    fill: var(--fill-color);\n",
              "    height: 32px;\n",
              "    padding: 0;\n",
              "    width: 32px;\n",
              "  }\n",
              "\n",
              "  .colab-df-quickchart:hover {\n",
              "    background-color: var(--hover-bg-color);\n",
              "    box-shadow: 0 1px 2px rgba(60, 64, 67, 0.3), 0 1px 3px 1px rgba(60, 64, 67, 0.15);\n",
              "    fill: var(--button-hover-fill-color);\n",
              "  }\n",
              "\n",
              "  .colab-df-quickchart-complete:disabled,\n",
              "  .colab-df-quickchart-complete:disabled:hover {\n",
              "    background-color: var(--disabled-bg-color);\n",
              "    fill: var(--disabled-fill-color);\n",
              "    box-shadow: none;\n",
              "  }\n",
              "\n",
              "  .colab-df-spinner {\n",
              "    border: 2px solid var(--fill-color);\n",
              "    border-color: transparent;\n",
              "    border-bottom-color: var(--fill-color);\n",
              "    animation:\n",
              "      spin 1s steps(1) infinite;\n",
              "  }\n",
              "\n",
              "  @keyframes spin {\n",
              "    0% {\n",
              "      border-color: transparent;\n",
              "      border-bottom-color: var(--fill-color);\n",
              "      border-left-color: var(--fill-color);\n",
              "    }\n",
              "    20% {\n",
              "      border-color: transparent;\n",
              "      border-left-color: var(--fill-color);\n",
              "      border-top-color: var(--fill-color);\n",
              "    }\n",
              "    30% {\n",
              "      border-color: transparent;\n",
              "      border-left-color: var(--fill-color);\n",
              "      border-top-color: var(--fill-color);\n",
              "      border-right-color: var(--fill-color);\n",
              "    }\n",
              "    40% {\n",
              "      border-color: transparent;\n",
              "      border-right-color: var(--fill-color);\n",
              "      border-top-color: var(--fill-color);\n",
              "    }\n",
              "    60% {\n",
              "      border-color: transparent;\n",
              "      border-right-color: var(--fill-color);\n",
              "    }\n",
              "    80% {\n",
              "      border-color: transparent;\n",
              "      border-right-color: var(--fill-color);\n",
              "      border-bottom-color: var(--fill-color);\n",
              "    }\n",
              "    90% {\n",
              "      border-color: transparent;\n",
              "      border-bottom-color: var(--fill-color);\n",
              "    }\n",
              "  }\n",
              "</style>\n",
              "\n",
              "      <script>\n",
              "        async function quickchart(key) {\n",
              "          const quickchartButtonEl =\n",
              "            document.querySelector('#' + key + ' button');\n",
              "          quickchartButtonEl.disabled = true;  // To prevent multiple clicks.\n",
              "          quickchartButtonEl.classList.add('colab-df-spinner');\n",
              "          try {\n",
              "            const charts = await google.colab.kernel.invokeFunction(\n",
              "                'suggestCharts', [key], {});\n",
              "          } catch (error) {\n",
              "            console.error('Error during call to suggestCharts:', error);\n",
              "          }\n",
              "          quickchartButtonEl.classList.remove('colab-df-spinner');\n",
              "          quickchartButtonEl.classList.add('colab-df-quickchart-complete');\n",
              "        }\n",
              "        (() => {\n",
              "          let quickchartButtonEl =\n",
              "            document.querySelector('#df-36b9897b-65d0-419c-b542-6b7c3abf01ed button');\n",
              "          quickchartButtonEl.style.display =\n",
              "            google.colab.kernel.accessAllowed ? 'block' : 'none';\n",
              "        })();\n",
              "      </script>\n",
              "    </div>\n",
              "\n",
              "    </div>\n",
              "  </div>\n"
            ],
            "text/plain": [
              "   EmployeeID  Age      Gender    Country            JobRole Department  \\\n",
              "0        1001   50        Male         UK    Sales Associate         HR   \n",
              "1        1002   36        Male    Germany  Software Engineer         IT   \n",
              "2        1003   29  Non-binary      India           IT Admin         IT   \n",
              "3        1004   42        Male  Australia      HR Specialist         IT   \n",
              "4        1005   40        Male     Brazil   Customer Support    Support   \n",
              "\n",
              "   YearsAtCompany  WorkHoursPerWeek RemoteWork  BurnoutLevel  ...  \\\n",
              "0              14                47         No          3.37  ...   \n",
              "1               1                59     Hybrid          7.39  ...   \n",
              "2              13                59     Hybrid          7.10  ...   \n",
              "3              15                31        Yes          4.18  ...   \n",
              "4               6                34        Yes          8.28  ...   \n",
              "\n",
              "   CommuteTime  HasMentalHealthSupport  ManagerSupportScore  HasTherapyAccess  \\\n",
              "0          117                      No                 3.15               Yes   \n",
              "1            8                     Yes                 4.40               Yes   \n",
              "2           75                      No                 3.63                No   \n",
              "3           43                     Yes                 4.50               Yes   \n",
              "4           58                     Yes                 5.51               Yes   \n",
              "\n",
              "   MentalHealthDaysOff  SalaryRange WorkLifeBalanceScore  TeamSize  \\\n",
              "0                    8      40K-60K                 8.82         6   \n",
              "1                    4     80K-100K                 2.80        45   \n",
              "2                    6     80K-100K                 7.28         7   \n",
              "3                    9      60K-80K                 1.31        11   \n",
              "4                    6         <40K                 1.17        18   \n",
              "\n",
              "  CareerGrowthScore  BurnoutRisk  \n",
              "0              9.20            0  \n",
              "1              8.46            1  \n",
              "2              7.96            1  \n",
              "3              8.90            0  \n",
              "4              8.88            1  \n",
              "\n",
              "[5 rows x 25 columns]"
            ]
          },
          "execution_count": 2,
          "metadata": {},
          "output_type": "execute_result"
        }
      ],
      "source": [
        "import pandas as pd\n",
        "df = pd.read_csv('/content/mental_health_workplace_survey.csv')\n",
        "df.head()\n"
      ]
    },
    {
      "cell_type": "code",
      "execution_count": null,
      "metadata": {
        "colab": {
          "base_uri": "https://localhost:8080/",
          "height": 178
        },
        "id": "_GiQbLY5NkRn",
        "outputId": "b6a257bd-bdd3-4529-a005-8cb5630fbc9b"
      },
      "outputs": [
        {
          "data": {
            "text/html": [
              "<div>\n",
              "<style scoped>\n",
              "    .dataframe tbody tr th:only-of-type {\n",
              "        vertical-align: middle;\n",
              "    }\n",
              "\n",
              "    .dataframe tbody tr th {\n",
              "        vertical-align: top;\n",
              "    }\n",
              "\n",
              "    .dataframe thead th {\n",
              "        text-align: right;\n",
              "    }\n",
              "</style>\n",
              "<table border=\"1\" class=\"dataframe\">\n",
              "  <thead>\n",
              "    <tr style=\"text-align: right;\">\n",
              "      <th></th>\n",
              "      <th>count</th>\n",
              "    </tr>\n",
              "    <tr>\n",
              "      <th>BurnoutBinary</th>\n",
              "      <th></th>\n",
              "    </tr>\n",
              "  </thead>\n",
              "  <tbody>\n",
              "    <tr>\n",
              "      <th>0</th>\n",
              "      <td>1677</td>\n",
              "    </tr>\n",
              "    <tr>\n",
              "      <th>1</th>\n",
              "      <td>1323</td>\n",
              "    </tr>\n",
              "  </tbody>\n",
              "</table>\n",
              "</div><br><label><b>dtype:</b> int64</label>"
            ],
            "text/plain": [
              "BurnoutBinary\n",
              "0    1677\n",
              "1    1323\n",
              "Name: count, dtype: int64"
            ]
          },
          "execution_count": 3,
          "metadata": {},
          "output_type": "execute_result"
        }
      ],
      "source": [
        "df['BurnoutBinary'] = df['BurnoutLevel'].apply(lambda x: 1 if x >= 6 else 0)\n",
        "df['BurnoutBinary'].value_counts()\n"
      ]
    },
    {
      "cell_type": "code",
      "execution_count": 4,
      "metadata": {
        "id": "9Eys3n4xOWIh"
      },
      "outputs": [],
      "source": [
        "df.drop(['EmployeeID', 'BurnoutLevel'], axis=1, inplace=True)\n"
      ]
    },
    {
      "cell_type": "code",
      "execution_count": 5,
      "metadata": {
        "id": "kgnzbrFMOZtZ"
      },
      "outputs": [],
      "source": [
        "df = pd.get_dummies(df, drop_first=True)\n"
      ]
    },
    {
      "cell_type": "code",
      "execution_count": 6,
      "metadata": {
        "id": "fxoHGY0xOh_5"
      },
      "outputs": [],
      "source": [
        "X = df.drop('BurnoutBinary', axis=1)\n",
        "y = df['BurnoutBinary']\n"
      ]
    },
    {
      "cell_type": "code",
      "execution_count": 7,
      "metadata": {
        "id": "WNXsj9PBOi8z"
      },
      "outputs": [],
      "source": [
        "from sklearn.model_selection import train_test_split\n",
        "\n",
        "X_train, X_test, y_train, y_test = train_test_split(X, y, test_size=0.2, random_state=42, stratify=y)\n"
      ]
    },
    {
      "cell_type": "code",
      "execution_count": null,
      "metadata": {
        "id": "pyJwzDMhOmcw"
      },
      "outputs": [],
      "source": [
        "from sklearn.linear_model import LogisticRegression\n",
        "from sklearn.metrics import accuracy_score, confusion_matrix, roc_auc_score, roc_curve\n",
        "import matplotlib.pyplot as plt\n",
        "import seaborn as sns\n",
        "\n",
        "logreg = LogisticRegression(max_iter=1000)\n",
        "logreg.fit(X_train, y_train)\n",
        "\n",
        "y_pred_log = logreg.predict(X_test)\n",
        "y_prob_log = logreg.predict_proba(X_test)[:, 1]\n"
      ]
    },
    {
      "cell_type": "code",
      "execution_count": 9,
      "metadata": {
        "id": "KQ0pCAhiPcNZ"
      },
      "outputs": [],
      "source": [
        "from sklearn.discriminant_analysis import LinearDiscriminantAnalysis\n",
        "\n",
        "lda = LinearDiscriminantAnalysis()\n",
        "lda.fit(X_train, y_train)\n",
        "\n",
        "y_pred_lda = lda.predict(X_test)\n",
        "y_prob_lda = lda.predict_proba(X_test)[:, 1]\n"
      ]
    },
    {
      "cell_type": "code",
      "execution_count": null,
      "metadata": {
        "id": "-QqCY8PLQG58"
      },
      "outputs": [],
      "source": [
        "from sklearn.linear_model import LogisticRegression\n",
        "\n",
        "log_reg = LogisticRegression(max_iter=1000)\n",
        "log_reg.fit(X_train, y_train)\n",
        "\n",
        "log_reg_preds = log_reg.predict(X_test)\n",
        "log_reg_probs = log_reg.predict_proba(X_test)[:, 1]\n"
      ]
    },
    {
      "cell_type": "code",
      "execution_count": null,
      "metadata": {
        "colab": {
          "base_uri": "https://localhost:8080/",
          "height": 572
        },
        "id": "6cn98_Q7REU3",
        "outputId": "22d7fdc9-dc1a-4438-c936-6cb99dcc29a1"
      },
      "outputs": [
        {
          "name": "stdout",
          "output_type": "stream",
          "text": [
            "🔹 Logistic Regression\n",
            "Accuracy: 0.8816666666666667\n",
            "Confusion Matrix:\n",
            " [[335   0]\n",
            " [ 71 194]]\n",
            "ROC-AUC Score: 0.8489777527457054\n"
          ]
        },
        {
          "data": {
            "text/plain": [
              "<sklearn.metrics._plot.roc_curve.RocCurveDisplay at 0x7b064e21c190>"
            ]
          },
          "execution_count": 14,
          "metadata": {},
          "output_type": "execute_result"
        },
        {
          "data": {
            "image/png": "[encoded data removed]",
            "text/plain": [
              "<Figure size 640x480 with 1 Axes>"
            ]
          },
          "metadata": {},
          "output_type": "display_data"
        }
      ],
      "source": [
        "from sklearn.metrics import accuracy_score, confusion_matrix, roc_auc_score, RocCurveDisplay\n",
        "\n",
        "print(\"🔹 Logistic Regression\")\n",
        "print(\"Accuracy:\", accuracy_score(y_test, log_reg_preds))\n",
        "print(\"Confusion Matrix:\\n\", confusion_matrix(y_test, log_reg_preds))\n",
        "print(\"ROC-AUC Score:\", roc_auc_score(y_test, log_reg_probs))\n",
        "\n",
        "RocCurveDisplay.from_predictions(y_test, log_reg_probs)\n"
      ]
    },
    {
      "cell_type": "code",
      "execution_count": null,
      "metadata": {
        "colab": {
          "base_uri": "https://localhost:8080/",
          "height": 572
        },
        "id": "0oPOfGnRRQGT",
        "outputId": "18088e7c-b336-4133-ff51-e8ca8d9a849b"
      },
      "outputs": [
        {
          "name": "stdout",
          "output_type": "stream",
          "text": [
            "🔹 Linear Discriminant Analysis (LDA)\n",
            "Accuracy: 0.8816666666666667\n",
            "Confusion Matrix:\n",
            " [[335   0]\n",
            " [ 71 194]]\n",
            "ROC-AUC Score: 0.8499239650802591\n"
          ]
        },
        {
          "data": {
            "text/plain": [
              "<sklearn.metrics._plot.roc_curve.RocCurveDisplay at 0x7b06527c2690>"
            ]
          },
          "execution_count": 15,
          "metadata": {},
          "output_type": "execute_result"
        },
        {
          "data": {
            "image/png": "[encoded data removed]",
            "text/plain": [
              "<Figure size 640x480 with 1 Axes>"
            ]
          },
          "metadata": {},
          "output_type": "display_data"
        }
      ],
      "source": [
        "print(\"🔹 Linear Discriminant Analysis (LDA)\")\n",
        "print(\"Accuracy:\", accuracy_score(y_test, y_pred_lda))\n",
        "print(\"Confusion Matrix:\\n\", confusion_matrix(y_test, y_pred_lda))\n",
        "print(\"ROC-AUC Score:\", roc_auc_score(y_test, y_prob_lda))\n",
        "\n",
        "RocCurveDisplay.from_predictions(y_test, y_prob_lda)\n"
      ]
    },
    {
      "cell_type": "markdown",
      "metadata": {
        "id": "dj1HL8kfSJi9"
      },
      "source": [
        "##  Model Comparison Summary\n",
        "\n",
        "| Model                        | Accuracy | ROC-AUC | Confusion Matrix         |\n",
        "|-----------------------------|----------|---------|--------------------------|\n",
        "| Logistic Regression         | 88.17%   | 0.8489  | [[335, 0], [71, 194]]    |\n",
        "| Linear Discriminant Analysis| 88.17%   | 0.8499  | [[335, 0], [71, 194]]    |\n",
        "\n",
        "### Conclusion:\n",
        "Both models showed equal accuracy and confusion matrices. However, **LDA slightly outperformed Logistic Regression** in ROC-AUC score, indicating better performance in distinguishing classes under imbalanced conditions.\n"
      ]
    }
  ],
  "metadata": {
    "colab": {
      "provenance": []
    },
    "kernelspec": {
      "display_name": "Python 3",
      "name": "python3"
    },
    "language_info": {
      "name": "python"
    }
  },
  "nbformat": 4,
  "nbformat_minor": 0
}
